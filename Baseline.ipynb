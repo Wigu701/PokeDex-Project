{
 "cells": [
  {
   "cell_type": "markdown",
   "metadata": {
    "id": "ysBlqLGu7xpc",
    "papermill": {
     "duration": 0.02289,
     "end_time": "2021-04-09T05:46:16.063048",
     "exception": false,
     "start_time": "2021-04-09T05:46:16.040158",
     "status": "completed"
    },
    "tags": []
   },
   "source": [
    "<h1> Pokemon Image Classifier </h1>\n",
    "<h3> In the this project we will use CNNs to train a model that can identify pokemon  images<h3>\n"
   ]
  },
  {
   "cell_type": "markdown",
   "metadata": {
    "papermill": {
     "duration": 0.021582,
     "end_time": "2021-04-09T05:46:16.106474",
     "exception": false,
     "start_time": "2021-04-09T05:46:16.084892",
     "status": "completed"
    },
    "tags": []
   },
   "source": [
    "## Fetching the Data"
   ]
  },
  {
   "cell_type": "code",
   "execution_count": 1,
   "metadata": {
    "execution": {
     "iopub.execute_input": "2021-04-09T05:46:16.156030Z",
     "iopub.status.busy": "2021-04-09T05:46:16.155345Z",
     "iopub.status.idle": "2021-04-09T05:46:16.157701Z",
     "shell.execute_reply": "2021-04-09T05:46:16.158192Z"
    },
    "id": "tZBXUKWb_vyD",
    "papermill": {
     "duration": 0.029912,
     "end_time": "2021-04-09T05:46:16.158320",
     "exception": false,
     "start_time": "2021-04-09T05:46:16.128408",
     "status": "completed"
    },
    "tags": []
   },
   "outputs": [],
   "source": [
    "# Importing the standard libraries\n",
    "\n",
    "import numpy as np\n",
    "import pandas as pd\n",
    "import matplotlib.pyplot as plt\n",
    "from matplotlib.image import imread\n",
    "import os\n",
    "import random\n",
    "import shutil"
   ]
  },
  {
   "cell_type": "markdown",
   "metadata": {
    "id": "DcmhYbxW8Pum",
    "papermill": {
     "duration": 0.021337,
     "end_time": "2021-04-09T05:46:16.201569",
     "exception": false,
     "start_time": "2021-04-09T05:46:16.180232",
     "status": "completed"
    },
    "tags": []
   },
   "source": [
    "<h2> Splitting data <h2>"
   ]
  },
  {
   "cell_type": "markdown",
   "metadata": {
    "id": "FIl16pcZ7K2N",
    "papermill": {
     "duration": 0.021331,
     "end_time": "2021-04-09T05:46:16.244422",
     "exception": false,
     "start_time": "2021-04-09T05:46:16.223091",
     "status": "completed"
    },
    "tags": []
   },
   "source": [
    "<h3> In the following cells we seperate the pokemon data into train and test datasets <h3>"
   ]
  },
  {
   "cell_type": "code",
   "execution_count": 2,
   "metadata": {
    "execution": {
     "iopub.execute_input": "2021-04-09T05:46:16.293047Z",
     "iopub.status.busy": "2021-04-09T05:46:16.292289Z",
     "iopub.status.idle": "2021-04-09T05:46:56.933988Z",
     "shell.execute_reply": "2021-04-09T05:46:56.932830Z"
    },
    "id": "8CeeW1DU2gDk",
    "papermill": {
     "duration": 40.668383,
     "end_time": "2021-04-09T05:46:56.934114",
     "exception": false,
     "start_time": "2021-04-09T05:46:16.265731",
     "status": "completed"
    },
    "tags": []
   },
   "outputs": [],
   "source": [
    "# Modified to reflect our dataset paths and prepartitioning\n",
    "\n",
    "train_path = 'TrainImages'\n",
    "test_path = 'TestImages'\n",
    "#os.listdir(train_path)"
   ]
  },
  {
   "cell_type": "markdown",
   "metadata": {
    "id": "lz9Kni6O7rM5",
    "papermill": {
     "duration": 0.021617,
     "end_time": "2021-04-09T05:46:57.420933",
     "exception": false,
     "start_time": "2021-04-09T05:46:57.399316",
     "status": "completed"
    },
    "tags": []
   },
   "source": [
    "<h2> Image pre-processing <h2>"
   ]
  },
  {
   "cell_type": "code",
   "execution_count": 3,
   "metadata": {
    "execution": {
     "iopub.execute_input": "2021-04-09T05:46:57.469915Z",
     "iopub.status.busy": "2021-04-09T05:46:57.469160Z",
     "iopub.status.idle": "2021-04-09T05:47:02.416955Z",
     "shell.execute_reply": "2021-04-09T05:47:02.415975Z"
    },
    "id": "ghKk4t9jFsdl",
    "papermill": {
     "duration": 4.974223,
     "end_time": "2021-04-09T05:47:02.417063",
     "exception": false,
     "start_time": "2021-04-09T05:46:57.442840",
     "status": "completed"
    },
    "tags": []
   },
   "outputs": [],
   "source": [
    "from tensorflow.keras.preprocessing.image import ImageDataGenerator"
   ]
  },
  {
   "cell_type": "code",
   "execution_count": 4,
   "metadata": {
    "execution": {
     "iopub.execute_input": "2021-04-09T05:47:02.467879Z",
     "iopub.status.busy": "2021-04-09T05:47:02.467149Z",
     "iopub.status.idle": "2021-04-09T05:47:02.470006Z",
     "shell.execute_reply": "2021-04-09T05:47:02.469604Z"
    },
    "id": "yXKPYq2HGptV",
    "papermill": {
     "duration": 0.029906,
     "end_time": "2021-04-09T05:47:02.470092",
     "exception": false,
     "start_time": "2021-04-09T05:47:02.440186",
     "status": "completed"
    },
    "tags": []
   },
   "outputs": [],
   "source": [
    "# Creating an image genertaor to apply random transformation on the images\n",
    "image_gen = ImageDataGenerator(rotation_range=20,\n",
    "                               rescale = 1./255,\n",
    "                               width_shift_range=0.1,\n",
    "                               height_shift_range=0.1,\n",
    "                               shear_range=0.1,\n",
    "                               zoom_range=0.1,\n",
    "                               horizontal_flip=True,\n",
    "                               fill_mode='nearest')"
   ]
  },
  {
   "cell_type": "code",
   "execution_count": 5,
   "metadata": {
    "execution": {
     "iopub.execute_input": "2021-04-09T05:47:02.518470Z",
     "iopub.status.busy": "2021-04-09T05:47:02.517818Z",
     "iopub.status.idle": "2021-04-09T05:47:02.520755Z",
     "shell.execute_reply": "2021-04-09T05:47:02.520183Z"
    },
    "id": "Wu058s_lIBM-",
    "papermill": {
     "duration": 0.028568,
     "end_time": "2021-04-09T05:47:02.520841",
     "exception": false,
     "start_time": "2021-04-09T05:47:02.492273",
     "status": "completed"
    },
    "tags": []
   },
   "outputs": [],
   "source": [
    "img_path = 'TrainImages/Zapdos/580e6e89333e494db94f2c251bd374ce.jpg'"
   ]
  },
  {
   "cell_type": "code",
   "execution_count": 6,
   "metadata": {
    "execution": {
     "iopub.execute_input": "2021-04-09T05:47:02.569297Z",
     "iopub.status.busy": "2021-04-09T05:47:02.568808Z",
     "iopub.status.idle": "2021-04-09T05:47:02.594290Z",
     "shell.execute_reply": "2021-04-09T05:47:02.593877Z"
    },
    "id": "fjRL-GqsL5f8",
    "outputId": "c03c4580-b101-43e5-cf92-ed7bf8816c74",
    "papermill": {
     "duration": 0.050998,
     "end_time": "2021-04-09T05:47:02.594414",
     "exception": false,
     "start_time": "2021-04-09T05:47:02.543416",
     "status": "completed"
    },
    "tags": []
   },
   "outputs": [
    {
     "data": {
      "text/plain": [
       "(195, 205, 3)"
      ]
     },
     "execution_count": 6,
     "metadata": {},
     "output_type": "execute_result"
    }
   ],
   "source": [
    "imread(img_path).shape"
   ]
  },
  {
   "cell_type": "code",
   "execution_count": 7,
   "metadata": {
    "execution": {
     "iopub.execute_input": "2021-04-09T05:47:02.644739Z",
     "iopub.status.busy": "2021-04-09T05:47:02.643974Z",
     "iopub.status.idle": "2021-04-09T05:47:02.848645Z",
     "shell.execute_reply": "2021-04-09T05:47:02.849084Z"
    },
    "id": "RUOKTd77G1pu",
    "outputId": "f81220d9-da13-45b3-8382-e5df779f39d5",
    "papermill": {
     "duration": 0.231745,
     "end_time": "2021-04-09T05:47:02.849199",
     "exception": false,
     "start_time": "2021-04-09T05:47:02.617454",
     "status": "completed"
    },
    "tags": []
   },
   "outputs": [
    {
     "data": {
      "text/plain": [
       "<matplotlib.image.AxesImage at 0x7f12661e7070>"
      ]
     },
     "execution_count": 7,
     "metadata": {},
     "output_type": "execute_result"
    },
    {
     "data": {
      "image/png": "[encoded data removed]",
      "text/plain": [
       "<Figure size 432x288 with 1 Axes>"
      ]
     },
     "metadata": {
      "needs_background": "light"
     },
     "output_type": "display_data"
    }
   ],
   "source": [
    "plt.imshow(imread(img_path))"
   ]
  },
  {
   "cell_type": "code",
   "execution_count": 8,
   "metadata": {
    "execution": {
     "iopub.execute_input": "2021-04-09T05:47:02.937238Z",
     "iopub.status.busy": "2021-04-09T05:47:02.936676Z",
     "iopub.status.idle": "2021-04-09T05:47:03.095499Z",
     "shell.execute_reply": "2021-04-09T05:47:03.095913Z"
    },
    "id": "TRBDAYL_G_0O",
    "outputId": "5c01819c-56a5-40b9-f3e1-2076bb33ee0d",
    "papermill": {
     "duration": 0.221636,
     "end_time": "2021-04-09T05:47:03.096028",
     "exception": false,
     "start_time": "2021-04-09T05:47:02.874392",
     "status": "completed"
    },
    "tags": []
   },
   "outputs": [
    {
     "data": {
      "text/plain": [
       "<matplotlib.image.AxesImage at 0x7f12667152a0>"
      ]
     },
     "execution_count": 8,
     "metadata": {},
     "output_type": "execute_result"
    },
    {
     "data": {
      "image/png": "[encoded data removed]",
      "text/plain": [
       "<Figure size 432x288 with 1 Axes>"
      ]
     },
     "metadata": {
      "needs_background": "light"
     },
     "output_type": "display_data"
    }
   ],
   "source": [
    "plt.imshow(image_gen.random_transform(imread(img_path)))"
   ]
  },
  {
   "cell_type": "code",
   "execution_count": 9,
   "metadata": {
    "execution": {
     "iopub.execute_input": "2021-04-09T05:47:03.156206Z",
     "iopub.status.busy": "2021-04-09T05:47:03.155460Z",
     "iopub.status.idle": "2021-04-09T05:47:03.586939Z",
     "shell.execute_reply": "2021-04-09T05:47:03.586434Z"
    },
    "id": "CxWpiMNLIscG",
    "outputId": "9aea9064-2534-4a96-b487-604d26ff4535",
    "papermill": {
     "duration": 0.462809,
     "end_time": "2021-04-09T05:47:03.587043",
     "exception": false,
     "start_time": "2021-04-09T05:47:03.124234",
     "status": "completed"
    },
    "tags": []
   },
   "outputs": [
    {
     "name": "stdout",
     "output_type": "stream",
     "text": [
      "Found 5830 images belonging to 149 classes.\n"
     ]
    },
    {
     "data": {
      "text/plain": [
       "<keras.preprocessing.image.DirectoryIterator at 0x7f1266072380>"
      ]
     },
     "execution_count": 9,
     "metadata": {},
     "output_type": "execute_result"
    }
   ],
   "source": [
    "image_gen.flow_from_directory(train_path)"
   ]
  },
  {
   "cell_type": "code",
   "execution_count": 10,
   "metadata": {
    "execution": {
     "iopub.execute_input": "2021-04-09T05:47:03.647197Z",
     "iopub.status.busy": "2021-04-09T05:47:03.646447Z",
     "iopub.status.idle": "2021-04-09T05:47:03.867916Z",
     "shell.execute_reply": "2021-04-09T05:47:03.866539Z"
    },
    "id": "xveoUeX1IyLX",
    "outputId": "47bfa3d5-7389-4d81-94dd-dd94da0f4741",
    "papermill": {
     "duration": 0.252986,
     "end_time": "2021-04-09T05:47:03.868082",
     "exception": false,
     "start_time": "2021-04-09T05:47:03.615096",
     "status": "completed"
    },
    "tags": []
   },
   "outputs": [
    {
     "name": "stdout",
     "output_type": "stream",
     "text": [
      "Found 949 images belonging to 149 classes.\n"
     ]
    },
    {
     "data": {
      "text/plain": [
       "<keras.preprocessing.image.DirectoryIterator at 0x7f1266073ee0>"
      ]
     },
     "execution_count": 10,
     "metadata": {},
     "output_type": "execute_result"
    }
   ],
   "source": [
    "image_gen.flow_from_directory(test_path)"
   ]
  },
  {
   "cell_type": "markdown",
   "metadata": {
    "id": "8BJGBkhM8e-f",
    "papermill": {
     "duration": 0.047305,
     "end_time": "2021-04-09T05:47:03.976449",
     "exception": false,
     "start_time": "2021-04-09T05:47:03.929144",
     "status": "completed"
    },
    "tags": []
   },
   "source": [
    "<h2> Creating and training model </h2>"
   ]
  },
  {
   "cell_type": "code",
   "execution_count": 11,
   "metadata": {
    "execution": {
     "iopub.execute_input": "2021-04-09T05:47:04.105471Z",
     "iopub.status.busy": "2021-04-09T05:47:04.104633Z",
     "iopub.status.idle": "2021-04-09T05:47:04.109217Z",
     "shell.execute_reply": "2021-04-09T05:47:04.109835Z"
    },
    "id": "EK3ZoFqWI1Ec",
    "papermill": {
     "duration": 0.086302,
     "end_time": "2021-04-09T05:47:04.110004",
     "exception": false,
     "start_time": "2021-04-09T05:47:04.023702",
     "status": "completed"
    },
    "tags": []
   },
   "outputs": [],
   "source": [
    "# Importing standard libraries for creating and training model\n",
    "\n",
    "from tensorflow.keras.models import Sequential,load_model\n",
    "from tensorflow.keras.layers import Dense, Conv2D, MaxPool2D, Dropout, Flatten, BatchNormalization\n",
    "from tensorflow.keras.optimizers import Adam\n",
    "from tensorflow.keras.callbacks import EarlyStopping"
   ]
  },
  {
   "cell_type": "code",
   "execution_count": 12,
   "metadata": {
    "execution": {
     "iopub.execute_input": "2021-04-09T05:47:04.210421Z",
     "iopub.status.busy": "2021-04-09T05:47:04.209556Z",
     "iopub.status.idle": "2021-04-09T05:47:04.211848Z",
     "shell.execute_reply": "2021-04-09T05:47:04.211155Z"
    },
    "id": "ofPaSCvzML4q",
    "papermill": {
     "duration": 0.054595,
     "end_time": "2021-04-09T05:47:04.211978",
     "exception": false,
     "start_time": "2021-04-09T05:47:04.157383",
     "status": "completed"
    },
    "tags": []
   },
   "outputs": [],
   "source": [
    "# Setting the inupt image size\n",
    "image_shape = (256,256,3)"
   ]
  },
  {
   "cell_type": "code",
   "execution_count": 13,
   "metadata": {
    "execution": {
     "iopub.execute_input": "2021-04-09T05:47:04.318730Z",
     "iopub.status.busy": "2021-04-09T05:47:04.317921Z",
     "iopub.status.idle": "2021-04-09T05:47:07.161342Z",
     "shell.execute_reply": "2021-04-09T05:47:07.160844Z"
    },
    "id": "yBEiWffnKLG-",
    "papermill": {
     "duration": 2.902824,
     "end_time": "2021-04-09T05:47:07.161452",
     "exception": false,
     "start_time": "2021-04-09T05:47:04.258628",
     "status": "completed"
    },
    "tags": []
   },
   "outputs": [
    {
     "name": "stderr",
     "output_type": "stream",
     "text": [
      "2023-03-31 23:31:29.674801: I tensorflow/compiler/xla/stream_executor/cuda/cuda_gpu_executor.cc:967] could not open file to read NUMA node: /sys/bus/pci/devices/0000:01:00.0/numa_node\n",
      "Your kernel may have been built without NUMA support.\n",
      "2023-03-31 23:31:30.070189: I tensorflow/compiler/xla/stream_executor/cuda/cuda_gpu_executor.cc:967] could not open file to read NUMA node: /sys/bus/pci/devices/0000:01:00.0/numa_node\n",
      "Your kernel may have been built without NUMA support.\n",
      "2023-03-31 23:31:30.070277: I tensorflow/compiler/xla/stream_executor/cuda/cuda_gpu_executor.cc:967] could not open file to read NUMA node: /sys/bus/pci/devices/0000:01:00.0/numa_node\n",
      "Your kernel may have been built without NUMA support.\n",
      "2023-03-31 23:31:30.074263: I tensorflow/compiler/xla/stream_executor/cuda/cuda_gpu_executor.cc:967] could not open file to read NUMA node: /sys/bus/pci/devices/0000:01:00.0/numa_node\n",
      "Your kernel may have been built without NUMA support.\n",
      "2023-03-31 23:31:30.074414: I tensorflow/compiler/xla/stream_executor/cuda/cuda_gpu_executor.cc:967] could not open file to read NUMA node: /sys/bus/pci/devices/0000:01:00.0/numa_node\n",
      "Your kernel may have been built without NUMA support.\n",
      "2023-03-31 23:31:30.074499: I tensorflow/compiler/xla/stream_executor/cuda/cuda_gpu_executor.cc:967] could not open file to read NUMA node: /sys/bus/pci/devices/0000:01:00.0/numa_node\n",
      "Your kernel may have been built without NUMA support.\n",
      "2023-03-31 23:31:33.610032: I tensorflow/compiler/xla/stream_executor/cuda/cuda_gpu_executor.cc:967] could not open file to read NUMA node: /sys/bus/pci/devices/0000:01:00.0/numa_node\n",
      "Your kernel may have been built without NUMA support.\n",
      "2023-03-31 23:31:33.610201: I tensorflow/compiler/xla/stream_executor/cuda/cuda_gpu_executor.cc:967] could not open file to read NUMA node: /sys/bus/pci/devices/0000:01:00.0/numa_node\n",
      "Your kernel may have been built without NUMA support.\n",
      "2023-03-31 23:31:33.610224: I tensorflow/core/common_runtime/gpu/gpu_device.cc:1700] Could not identify NUMA node of platform GPU id 0, defaulting to 0.  Your kernel may not have been built with NUMA support.\n",
      "2023-03-31 23:31:33.610303: I tensorflow/compiler/xla/stream_executor/cuda/cuda_gpu_executor.cc:967] could not open file to read NUMA node: /sys/bus/pci/devices/0000:01:00.0/numa_node\n",
      "Your kernel may have been built without NUMA support.\n",
      "2023-03-31 23:31:33.610480: I tensorflow/core/common_runtime/gpu/gpu_device.cc:1613] Created device /job:localhost/replica:0/task:0/device:GPU:0 with 2052 MB memory:  -> device: 0, name: NVIDIA GeForce GTX 1650 with Max-Q Design, pci bus id: 0000:01:00.0, compute capability: 7.5\n"
     ]
    }
   ],
   "source": [
    "# Creating a CNN model with 5 layers 64,128,128,128 and 256 filters each with 3x3 kernel size and pooling layers with size 2\n",
    "# Adding 3 dense layers with 1024,512 neurons with final layer with 150 outputs.\n",
    "# Batch Normalization and Dropout layers\n",
    "\n",
    "model = Sequential()\n",
    "\n",
    "model.add(Conv2D(filters=64,kernel_size=(3,3),padding='same',input_shape=image_shape,activation='relu'))\n",
    "model.add(MaxPool2D(pool_size=(2,2)))\n",
    "model.add(Conv2D(filters=128,kernel_size=(3,3),padding='same',input_shape=image_shape,activation='relu'))\n",
    "model.add(MaxPool2D(pool_size=(2,2)))\n",
    "model.add(Dropout(rate=0.25))\n",
    "model.add(BatchNormalization())\n",
    "model.add(Conv2D(filters=128,kernel_size=(3,3),padding='same',input_shape=image_shape,activation='relu'))\n",
    "model.add(MaxPool2D(pool_size=(2,2)))\n",
    "model.add(Conv2D(filters=128,kernel_size=(3,3),padding='same',input_shape=image_shape,activation='relu'))\n",
    "model.add(MaxPool2D(pool_size=(2,2)))\n",
    "model.add(BatchNormalization())\n",
    "model.add(Conv2D(filters=256,kernel_size=(3,3),padding='same',input_shape=image_shape,activation='relu'))\n",
    "model.add(MaxPool2D(pool_size=(2,2)))\n",
    "model.add(Dropout(rate=0.25))\n",
    "\n",
    "model.add(Flatten())\n",
    "\n",
    "model.add(Dense(1024,activation='relu'))\n",
    "\n",
    "model.add(Dropout(rate=0.25))\n",
    "\n",
    "model.add(Dense(512,activation='relu'))\n",
    "\n",
    "model.add(Dense(149,activation='softmax'))\n",
    "\n",
    "\n",
    "model.compile(loss='categorical_crossentropy', optimizer=Adam(learning_rate=0.001), metrics=['accuracy'])"
   ]
  },
  {
   "cell_type": "code",
   "execution_count": 14,
   "metadata": {
    "execution": {
     "iopub.execute_input": "2021-04-09T05:47:07.231195Z",
     "iopub.status.busy": "2021-04-09T05:47:07.225618Z",
     "iopub.status.idle": "2021-04-09T05:47:07.235157Z",
     "shell.execute_reply": "2021-04-09T05:47:07.234474Z"
    },
    "id": "YKRWSX9xMon_",
    "outputId": "4d60f42e-5018-4bf3-dd9b-690e76ceae83",
    "papermill": {
     "duration": 0.044229,
     "end_time": "2021-04-09T05:47:07.235275",
     "exception": false,
     "start_time": "2021-04-09T05:47:07.191046",
     "status": "completed"
    },
    "tags": []
   },
   "outputs": [
    {
     "name": "stdout",
     "output_type": "stream",
     "text": [
      "Model: \"sequential\"\n",
      "_________________________________________________________________\n",
      " Layer (type)                Output Shape              Param #   \n",
      "=================================================================\n",
      " conv2d (Conv2D)             (None, 256, 256, 64)      1792      \n",
      "                                                                 \n",
      " max_pooling2d (MaxPooling2D  (None, 128, 128, 64)     0         \n",
      " )                                                               \n",
      "                                                                 \n",
      " conv2d_1 (Conv2D)           (None, 128, 128, 128)     73856     \n",
      "                                                                 \n",
      " max_pooling2d_1 (MaxPooling  (None, 64, 64, 128)      0         \n",
      " 2D)                                                             \n",
      "                                                                 \n",
      " dropout (Dropout)           (None, 64, 64, 128)       0         \n",
      "                                                                 \n",
      " batch_normalization (BatchN  (None, 64, 64, 128)      512       \n",
      " ormalization)                                                   \n",
      "                                                                 \n",
      " conv2d_2 (Conv2D)           (None, 64, 64, 128)       147584    \n",
      "                                                                 \n",
      " max_pooling2d_2 (MaxPooling  (None, 32, 32, 128)      0         \n",
      " 2D)                                                             \n",
      "                                                                 \n",
      " conv2d_3 (Conv2D)           (None, 32, 32, 128)       147584    \n",
      "                                                                 \n",
      " max_pooling2d_3 (MaxPooling  (None, 16, 16, 128)      0         \n",
      " 2D)                                                             \n",
      "                                                                 \n",
      " batch_normalization_1 (Batc  (None, 16, 16, 128)      512       \n",
      " hNormalization)                                                 \n",
      "                                                                 \n",
      " conv2d_4 (Conv2D)           (None, 16, 16, 256)       295168    \n",
      "                                                                 \n",
      " max_pooling2d_4 (MaxPooling  (None, 8, 8, 256)        0         \n",
      " 2D)                                                             \n",
      "                                                                 \n",
      " dropout_1 (Dropout)         (None, 8, 8, 256)         0         \n",
      "                                                                 \n",
      " flatten (Flatten)           (None, 16384)             0         \n",
      "                                                                 \n",
      " dense (Dense)               (None, 1024)              16778240  \n",
      "                                                                 \n",
      " dropout_2 (Dropout)         (None, 1024)              0         \n",
      "                                                                 \n",
      " dense_1 (Dense)             (None, 512)               524800    \n",
      "                                                                 \n",
      " dense_2 (Dense)             (None, 149)               76437     \n",
      "                                                                 \n",
      "=================================================================\n",
      "Total params: 18,046,485\n",
      "Trainable params: 18,045,973\n",
      "Non-trainable params: 512\n",
      "_________________________________________________________________\n"
     ]
    }
   ],
   "source": [
    "model.summary()"
   ]
  },
  {
   "cell_type": "code",
   "execution_count": 15,
   "metadata": {
    "execution": {
     "iopub.execute_input": "2021-04-09T05:47:07.301944Z",
     "iopub.status.busy": "2021-04-09T05:47:07.301428Z",
     "iopub.status.idle": "2021-04-09T05:47:07.304732Z",
     "shell.execute_reply": "2021-04-09T05:47:07.305655Z"
    },
    "id": "ru13eok_OCVV",
    "papermill": {
     "duration": 0.037301,
     "end_time": "2021-04-09T05:47:07.305784",
     "exception": false,
     "start_time": "2021-04-09T05:47:07.268483",
     "status": "completed"
    },
    "tags": []
   },
   "outputs": [],
   "source": [
    "batch_size = 16"
   ]
  },
  {
   "cell_type": "code",
   "execution_count": 16,
   "metadata": {
    "execution": {
     "iopub.execute_input": "2021-04-09T05:47:07.370283Z",
     "iopub.status.busy": "2021-04-09T05:47:07.369531Z",
     "iopub.status.idle": "2021-04-09T05:47:07.793548Z",
     "shell.execute_reply": "2021-04-09T05:47:07.794262Z"
    },
    "id": "jr9rR8cLOVXf",
    "outputId": "152a9338-8b0d-4e3f-aac9-143976c361bb",
    "papermill": {
     "duration": 0.459073,
     "end_time": "2021-04-09T05:47:07.794465",
     "exception": false,
     "start_time": "2021-04-09T05:47:07.335392",
     "status": "completed"
    },
    "tags": []
   },
   "outputs": [
    {
     "name": "stdout",
     "output_type": "stream",
     "text": [
      "Found 5830 images belonging to 149 classes.\n"
     ]
    }
   ],
   "source": [
    "train_image_gen = image_gen.flow_from_directory(train_path,\n",
    "                                                target_size=image_shape[:2],\n",
    "                                                color_mode='rgb',\n",
    "                                                batch_size=batch_size,\n",
    "                                                class_mode='categorical')"
   ]
  },
  {
   "cell_type": "code",
   "execution_count": 17,
   "metadata": {
    "execution": {
     "iopub.execute_input": "2021-04-09T05:47:07.868506Z",
     "iopub.status.busy": "2021-04-09T05:47:07.867631Z",
     "iopub.status.idle": "2021-04-09T05:47:08.217908Z",
     "shell.execute_reply": "2021-04-09T05:47:08.218570Z"
    },
    "id": "6T4eC46ROmL2",
    "outputId": "c618af0a-f02b-4cd4-833c-a9d99aeac1e1",
    "papermill": {
     "duration": 0.3925,
     "end_time": "2021-04-09T05:47:08.218735",
     "exception": false,
     "start_time": "2021-04-09T05:47:07.826235",
     "status": "completed"
    },
    "tags": []
   },
   "outputs": [
    {
     "name": "stdout",
     "output_type": "stream",
     "text": [
      "Found 949 images belonging to 149 classes.\n"
     ]
    }
   ],
   "source": [
    "test_image_gen = image_gen.flow_from_directory(test_path,\n",
    "                                                target_size=image_shape[:2],\n",
    "                                                color_mode='rgb',\n",
    "                                                batch_size=batch_size,\n",
    "                                                class_mode='categorical')"
   ]
  },
  {
   "cell_type": "code",
   "execution_count": 18,
   "metadata": {
    "execution": {
     "iopub.execute_input": "2021-04-09T05:47:08.285555Z",
     "iopub.status.busy": "2021-04-09T05:47:08.284985Z",
     "iopub.status.idle": "2021-04-09T05:47:08.288755Z",
     "shell.execute_reply": "2021-04-09T05:47:08.288296Z"
    },
    "id": "vsHz-gTXNpWh",
    "papermill": {
     "duration": 0.038301,
     "end_time": "2021-04-09T05:47:08.288844",
     "exception": false,
     "start_time": "2021-04-09T05:47:08.250543",
     "status": "completed"
    },
    "tags": []
   },
   "outputs": [],
   "source": [
    "# Defining a callback for early stopping to utilize computing resources effeciently\n",
    "early_stopping = EarlyStopping(monitor='val_loss',patience=3)"
   ]
  },
  {
   "cell_type": "code",
   "execution_count": 19,
   "metadata": {
    "execution": {
     "iopub.execute_input": "2021-04-09T05:47:08.356073Z",
     "iopub.status.busy": "2021-04-09T05:47:08.355553Z",
     "iopub.status.idle": "2021-04-09T07:16:11.326770Z",
     "shell.execute_reply": "2021-04-09T07:16:11.327497Z"
    },
    "id": "aWzcLsxcQhZ-",
    "outputId": "da0a518d-3228-4b8d-bf1e-aef6c75df1b5",
    "papermill": {
     "duration": 5343.007895,
     "end_time": "2021-04-09T07:16:11.327681",
     "exception": false,
     "start_time": "2021-04-09T05:47:08.319786",
     "status": "completed"
    },
    "tags": []
   },
   "outputs": [
    {
     "name": "stdout",
     "output_type": "stream",
     "text": [
      "Epoch 1/80\n"
     ]
    },
    {
     "name": "stderr",
     "output_type": "stream",
     "text": [
      "2023-03-31 23:31:38.298202: E tensorflow/core/grappler/optimizers/meta_optimizer.cc:954] layout failed: INVALID_ARGUMENT: Size of values 0 does not match size of permutation 4 @ fanin shape insequential/dropout/dropout/SelectV2-2-TransposeNHWCToNCHW-LayoutOptimizer\n",
      "2023-03-31 23:31:43.578765: I tensorflow/compiler/xla/stream_executor/cuda/cuda_dnn.cc:428] Loaded cuDNN version 8700\n",
      "2023-03-31 23:31:47.942749: W tensorflow/tsl/framework/bfc_allocator.cc:290] Allocator (GPU_0_bfc) ran out of memory trying to allocate 2.30GiB with freed_by_count=0. The caller indicates that this is not a failure, but this may mean that there could be performance gains if more memory were available.\n",
      "2023-03-31 23:31:48.436656: I tensorflow/compiler/xla/service/service.cc:173] XLA service 0x7f0ff332b810 initialized for platform CUDA (this does not guarantee that XLA will be used). Devices:\n",
      "2023-03-31 23:31:48.436722: I tensorflow/compiler/xla/service/service.cc:181]   StreamExecutor device (0): NVIDIA GeForce GTX 1650 with Max-Q Design, Compute Capability 7.5\n",
      "2023-03-31 23:31:48.453297: I tensorflow/compiler/mlir/tensorflow/utils/dump_mlir_util.cc:268] disabling MLIR crash reproducer, set env var `MLIR_CRASH_REPRODUCER_DIRECTORY` to enable.\n",
      "2023-03-31 23:31:48.689907: I tensorflow/compiler/jit/xla_compilation_cache.cc:477] Compiled cluster using XLA!  This line is logged at most once for the lifetime of the process.\n",
      "2023-03-31 23:31:51.196365: W tensorflow/tsl/framework/bfc_allocator.cc:290] Allocator (GPU_0_bfc) ran out of memory trying to allocate 2.30GiB with freed_by_count=0. The caller indicates that this is not a failure, but this may mean that there could be performance gains if more memory were available.\n",
      "2023-03-31 23:31:51.217079: W tensorflow/tsl/framework/bfc_allocator.cc:290] Allocator (GPU_0_bfc) ran out of memory trying to allocate 2.30GiB with freed_by_count=0. The caller indicates that this is not a failure, but this may mean that there could be performance gains if more memory were available.\n",
      "2023-03-31 23:31:51.877910: W tensorflow/tsl/framework/bfc_allocator.cc:290] Allocator (GPU_0_bfc) ran out of memory trying to allocate 2.08GiB with freed_by_count=0. The caller indicates that this is not a failure, but this may mean that there could be performance gains if more memory were available.\n",
      "2023-03-31 23:31:51.878015: W tensorflow/tsl/framework/bfc_allocator.cc:290] Allocator (GPU_0_bfc) ran out of memory trying to allocate 2.08GiB with freed_by_count=0. The caller indicates that this is not a failure, but this may mean that there could be performance gains if more memory were available.\n",
      "2023-03-31 23:31:52.806889: W tensorflow/tsl/framework/bfc_allocator.cc:290] Allocator (GPU_0_bfc) ran out of memory trying to allocate 5.05GiB with freed_by_count=0. The caller indicates that this is not a failure, but this may mean that there could be performance gains if more memory were available.\n",
      "2023-03-31 23:31:52.911627: W tensorflow/tsl/framework/bfc_allocator.cc:290] Allocator (GPU_0_bfc) ran out of memory trying to allocate 5.05GiB with freed_by_count=0. The caller indicates that this is not a failure, but this may mean that there could be performance gains if more memory were available.\n",
      "2023-03-31 23:31:53.817918: W tensorflow/tsl/framework/bfc_allocator.cc:290] Allocator (GPU_0_bfc) ran out of memory trying to allocate 4.17GiB with freed_by_count=0. The caller indicates that this is not a failure, but this may mean that there could be performance gains if more memory were available.\n",
      "2023-03-31 23:31:53.818027: W tensorflow/tsl/framework/bfc_allocator.cc:290] Allocator (GPU_0_bfc) ran out of memory trying to allocate 4.17GiB with freed_by_count=0. The caller indicates that this is not a failure, but this may mean that there could be performance gains if more memory were available.\n"
     ]
    },
    {
     "name": "stdout",
     "output_type": "stream",
     "text": [
      "103/365 [=======>......................] - ETA: 1:34 - loss: 6.2552 - accuracy: 0.0073"
     ]
    },
    {
     "name": "stderr",
     "output_type": "stream",
     "text": [
      "2023-03-31 23:32:32.035192: W tensorflow/tsl/framework/bfc_allocator.cc:290] Allocator (GPU_0_bfc) ran out of memory trying to allocate 2.14GiB with freed_by_count=0. The caller indicates that this is not a failure, but this may mean that there could be performance gains if more memory were available.\n"
     ]
    },
    {
     "name": "stdout",
     "output_type": "stream",
     "text": [
      "365/365 [==============================] - 164s 401ms/step - loss: 5.3934 - accuracy: 0.0062 - val_loss: 5.0220 - val_accuracy: 0.0011\n",
      "Epoch 2/80\n",
      "365/365 [==============================] - 141s 386ms/step - loss: 4.9170 - accuracy: 0.0125 - val_loss: 4.9390 - val_accuracy: 0.0190\n",
      "Epoch 3/80\n",
      "365/365 [==============================] - 144s 395ms/step - loss: 4.5532 - accuracy: 0.0247 - val_loss: 4.5292 - val_accuracy: 0.0379\n",
      "Epoch 4/80\n",
      "365/365 [==============================] - 142s 390ms/step - loss: 4.2947 - accuracy: 0.0482 - val_loss: 4.2609 - val_accuracy: 0.0537\n",
      "Epoch 5/80\n",
      "365/365 [==============================] - 144s 394ms/step - loss: 4.0578 - accuracy: 0.0633 - val_loss: 4.1872 - val_accuracy: 0.0653\n",
      "Epoch 6/80\n",
      "365/365 [==============================] - 146s 399ms/step - loss: 3.8311 - accuracy: 0.0907 - val_loss: 3.8873 - val_accuracy: 0.0938\n",
      "Epoch 7/80\n",
      "365/365 [==============================] - 161s 441ms/step - loss: 3.6686 - accuracy: 0.1230 - val_loss: 3.5427 - val_accuracy: 0.1538\n",
      "Epoch 8/80\n",
      "365/365 [==============================] - 150s 411ms/step - loss: 3.5056 - accuracy: 0.1508 - val_loss: 3.4000 - val_accuracy: 0.1686\n",
      "Epoch 9/80\n",
      "365/365 [==============================] - 146s 400ms/step - loss: 3.3687 - accuracy: 0.1775 - val_loss: 3.1771 - val_accuracy: 0.2192\n",
      "Epoch 10/80\n",
      "365/365 [==============================] - 135s 369ms/step - loss: 3.1866 - accuracy: 0.2099 - val_loss: 3.1411 - val_accuracy: 0.2276\n",
      "Epoch 11/80\n",
      "365/365 [==============================] - 136s 370ms/step - loss: 3.0205 - accuracy: 0.2370 - val_loss: 2.9718 - val_accuracy: 0.2603\n",
      "Epoch 12/80\n",
      "365/365 [==============================] - 134s 366ms/step - loss: 2.8889 - accuracy: 0.2666 - val_loss: 2.8712 - val_accuracy: 0.2835\n",
      "Epoch 13/80\n",
      "365/365 [==============================] - 135s 369ms/step - loss: 2.7561 - accuracy: 0.2925 - val_loss: 2.7616 - val_accuracy: 0.2929\n",
      "Epoch 14/80\n",
      "365/365 [==============================] - 139s 381ms/step - loss: 2.5956 - accuracy: 0.3192 - val_loss: 2.5593 - val_accuracy: 0.3614\n",
      "Epoch 15/80\n",
      "365/365 [==============================] - 139s 381ms/step - loss: 2.4550 - accuracy: 0.3544 - val_loss: 2.5429 - val_accuracy: 0.3456\n",
      "Epoch 16/80\n",
      "365/365 [==============================] - 143s 390ms/step - loss: 2.3270 - accuracy: 0.3815 - val_loss: 2.3395 - val_accuracy: 0.3741\n",
      "Epoch 17/80\n",
      "365/365 [==============================] - 141s 387ms/step - loss: 2.2657 - accuracy: 0.4003 - val_loss: 2.3072 - val_accuracy: 0.3983\n",
      "Epoch 18/80\n",
      "365/365 [==============================] - 147s 403ms/step - loss: 2.1202 - accuracy: 0.4278 - val_loss: 2.1696 - val_accuracy: 0.4394\n",
      "Epoch 19/80\n",
      "365/365 [==============================] - 148s 404ms/step - loss: 2.0771 - accuracy: 0.4444 - val_loss: 2.2041 - val_accuracy: 0.4636\n",
      "Epoch 20/80\n",
      "365/365 [==============================] - 141s 383ms/step - loss: 2.0114 - accuracy: 0.4535 - val_loss: 2.1587 - val_accuracy: 0.4636\n",
      "Epoch 21/80\n",
      "365/365 [==============================] - 140s 384ms/step - loss: 1.9802 - accuracy: 0.4628 - val_loss: 2.0968 - val_accuracy: 0.4700\n",
      "Epoch 22/80\n",
      "365/365 [==============================] - 144s 393ms/step - loss: 1.8789 - accuracy: 0.4840 - val_loss: 1.9801 - val_accuracy: 0.5079\n",
      "Epoch 23/80\n",
      "365/365 [==============================] - 143s 390ms/step - loss: 1.7893 - accuracy: 0.5098 - val_loss: 2.1087 - val_accuracy: 0.4658\n",
      "Epoch 24/80\n",
      "365/365 [==============================] - 155s 423ms/step - loss: 1.8071 - accuracy: 0.5021 - val_loss: 1.9794 - val_accuracy: 0.4953\n",
      "Epoch 25/80\n",
      "365/365 [==============================] - 140s 384ms/step - loss: 1.7162 - accuracy: 0.5271 - val_loss: 2.0091 - val_accuracy: 0.4953\n",
      "Epoch 26/80\n",
      "365/365 [==============================] - 140s 384ms/step - loss: 1.6647 - accuracy: 0.5434 - val_loss: 1.9865 - val_accuracy: 0.5058\n",
      "Epoch 27/80\n",
      "365/365 [==============================] - 140s 382ms/step - loss: 1.6633 - accuracy: 0.5379 - val_loss: 2.3133 - val_accuracy: 0.4415\n"
     ]
    }
   ],
   "source": [
    "# Training the model\n",
    "results = model.fit(train_image_gen,epochs=80,validation_data=test_image_gen,callbacks=[early_stopping])"
   ]
  },
  {
   "cell_type": "code",
   "execution_count": 20,
   "metadata": {
    "execution": {
     "iopub.execute_input": "2021-04-09T07:16:19.597507Z",
     "iopub.status.busy": "2021-04-09T07:16:19.595726Z",
     "iopub.status.idle": "2021-04-09T07:16:19.598145Z",
     "shell.execute_reply": "2021-04-09T07:16:19.598563Z"
    },
    "id": "_YDCiv-yCFm6",
    "papermill": {
     "duration": 4.215014,
     "end_time": "2021-04-09T07:16:19.598699",
     "exception": false,
     "start_time": "2021-04-09T07:16:15.383685",
     "status": "completed"
    },
    "tags": []
   },
   "outputs": [],
   "source": [
    "#loss_history = pd.read_csv(\"loss_history.csv\")"
   ]
  },
  {
   "cell_type": "code",
   "execution_count": 21,
   "metadata": {
    "execution": {
     "iopub.execute_input": "2021-04-09T07:16:27.319663Z",
     "iopub.status.busy": "2021-04-09T07:16:27.318760Z",
     "iopub.status.idle": "2021-04-09T07:16:27.321166Z",
     "shell.execute_reply": "2021-04-09T07:16:27.320648Z"
    },
    "id": "54g_o7bVCo8x",
    "papermill": {
     "duration": 3.719831,
     "end_time": "2021-04-09T07:16:27.321264",
     "exception": false,
     "start_time": "2021-04-09T07:16:23.601433",
     "status": "completed"
    },
    "tags": []
   },
   "outputs": [],
   "source": [
    "#model = load_model(\"my_cnn_model.h5\")"
   ]
  },
  {
   "cell_type": "code",
   "execution_count": 22,
   "metadata": {
    "execution": {
     "iopub.execute_input": "2021-04-09T07:16:35.061357Z",
     "iopub.status.busy": "2021-04-09T07:16:35.060470Z",
     "iopub.status.idle": "2021-04-09T07:16:35.063139Z",
     "shell.execute_reply": "2021-04-09T07:16:35.062717Z"
    },
    "id": "grMlBq19FNTb",
    "papermill": {
     "duration": 3.976165,
     "end_time": "2021-04-09T07:16:35.063246",
     "exception": false,
     "start_time": "2021-04-09T07:16:31.087081",
     "status": "completed"
    },
    "tags": []
   },
   "outputs": [],
   "source": [
    "#Recording the loss history\n",
    "loss_history = pd.DataFrame(model.history.history)"
   ]
  },
  {
   "cell_type": "code",
   "execution_count": 23,
   "metadata": {
    "execution": {
     "iopub.execute_input": "2021-04-09T07:16:42.729234Z",
     "iopub.status.busy": "2021-04-09T07:16:42.728561Z",
     "iopub.status.idle": "2021-04-09T07:16:42.905895Z",
     "shell.execute_reply": "2021-04-09T07:16:42.904993Z"
    },
    "id": "di3M87FVFd_J",
    "papermill": {
     "duration": 4.069426,
     "end_time": "2021-04-09T07:16:42.906000",
     "exception": false,
     "start_time": "2021-04-09T07:16:38.836574",
     "status": "completed"
    },
    "tags": []
   },
   "outputs": [],
   "source": [
    "loss_history.to_csv('loss_history.csv')"
   ]
  },
  {
   "cell_type": "code",
   "execution_count": 24,
   "metadata": {
    "execution": {
     "iopub.execute_input": "2021-04-09T07:16:51.110106Z",
     "iopub.status.busy": "2021-04-09T07:16:51.109230Z",
     "iopub.status.idle": "2021-04-09T07:16:51.544532Z",
     "shell.execute_reply": "2021-04-09T07:16:51.543846Z"
    },
    "id": "Wa8NVpr7FgY_",
    "papermill": {
     "duration": 4.648356,
     "end_time": "2021-04-09T07:16:51.544642",
     "exception": false,
     "start_time": "2021-04-09T07:16:46.896286",
     "status": "completed"
    },
    "tags": []
   },
   "outputs": [],
   "source": [
    "# Saving the trained model\n",
    "model.save('my_cnn_model.h5')"
   ]
  },
  {
   "cell_type": "markdown",
   "metadata": {
    "id": "G_67azyo_SoG",
    "papermill": {
     "duration": 3.979612,
     "end_time": "2021-04-09T07:16:59.338183",
     "exception": false,
     "start_time": "2021-04-09T07:16:55.358571",
     "status": "completed"
    },
    "tags": []
   },
   "source": [
    "<h2> Evaluating the model </h2>"
   ]
  },
  {
   "cell_type": "code",
   "execution_count": 25,
   "metadata": {
    "execution": {
     "iopub.execute_input": "2021-04-09T07:17:07.046894Z",
     "iopub.status.busy": "2021-04-09T07:17:07.045427Z",
     "iopub.status.idle": "2021-04-09T07:17:49.667881Z",
     "shell.execute_reply": "2021-04-09T07:17:49.667438Z"
    },
    "id": "vF1ZMAwLYD2P",
    "outputId": "4224bc43-5d71-4497-e143-f4cc78d73b22",
    "papermill": {
     "duration": 46.55993,
     "end_time": "2021-04-09T07:17:49.667981",
     "exception": false,
     "start_time": "2021-04-09T07:17:03.108051",
     "status": "completed"
    },
    "tags": []
   },
   "outputs": [
    {
     "name": "stdout",
     "output_type": "stream",
     "text": [
      "60/60 [==============================] - 17s 281ms/step - loss: 2.3288 - accuracy: 0.4478\n"
     ]
    },
    {
     "data": {
      "text/plain": [
       "[2.3288016319274902, 0.4478398263454437]"
      ]
     },
     "execution_count": 25,
     "metadata": {},
     "output_type": "execute_result"
    }
   ],
   "source": [
    "model.evaluate(test_image_gen)"
   ]
  },
  {
   "cell_type": "code",
   "execution_count": 26,
   "metadata": {
    "execution": {
     "iopub.execute_input": "2021-04-09T07:17:58.017508Z",
     "iopub.status.busy": "2021-04-09T07:17:58.016635Z",
     "iopub.status.idle": "2021-04-09T07:17:58.024423Z",
     "shell.execute_reply": "2021-04-09T07:17:58.024951Z"
    },
    "id": "AWaTZCwQYNq4",
    "outputId": "65d7a6e5-18c8-432c-e001-0203ca8791c2",
    "papermill": {
     "duration": 4.149581,
     "end_time": "2021-04-09T07:17:58.025065",
     "exception": false,
     "start_time": "2021-04-09T07:17:53.875484",
     "status": "completed"
    },
    "tags": []
   },
   "outputs": [
    {
     "data": {
      "text/html": [
       "<div>\n",
       "<style scoped>\n",
       "    .dataframe tbody tr th:only-of-type {\n",
       "        vertical-align: middle;\n",
       "    }\n",
       "\n",
       "    .dataframe tbody tr th {\n",
       "        vertical-align: top;\n",
       "    }\n",
       "\n",
       "    .dataframe thead th {\n",
       "        text-align: right;\n",
       "    }\n",
       "</style>\n",
       "<table border=\"1\" class=\"dataframe\">\n",
       "  <thead>\n",
       "    <tr style=\"text-align: right;\">\n",
       "      <th></th>\n",
       "      <th>loss</th>\n",
       "      <th>accuracy</th>\n",
       "      <th>val_loss</th>\n",
       "      <th>val_accuracy</th>\n",
       "    </tr>\n",
       "  </thead>\n",
       "  <tbody>\n",
       "    <tr>\n",
       "      <th>0</th>\n",
       "      <td>5.393419</td>\n",
       "      <td>0.006175</td>\n",
       "      <td>5.022049</td>\n",
       "      <td>0.001054</td>\n",
       "    </tr>\n",
       "    <tr>\n",
       "      <th>1</th>\n",
       "      <td>4.917031</td>\n",
       "      <td>0.012521</td>\n",
       "      <td>4.939026</td>\n",
       "      <td>0.018967</td>\n",
       "    </tr>\n",
       "    <tr>\n",
       "      <th>2</th>\n",
       "      <td>4.553165</td>\n",
       "      <td>0.024700</td>\n",
       "      <td>4.529188</td>\n",
       "      <td>0.037935</td>\n",
       "    </tr>\n",
       "    <tr>\n",
       "      <th>3</th>\n",
       "      <td>4.294667</td>\n",
       "      <td>0.048199</td>\n",
       "      <td>4.260866</td>\n",
       "      <td>0.053741</td>\n",
       "    </tr>\n",
       "    <tr>\n",
       "      <th>4</th>\n",
       "      <td>4.057812</td>\n",
       "      <td>0.063293</td>\n",
       "      <td>4.187239</td>\n",
       "      <td>0.065332</td>\n",
       "    </tr>\n",
       "  </tbody>\n",
       "</table>\n",
       "</div>"
      ],
      "text/plain": [
       "       loss  accuracy  val_loss  val_accuracy\n",
       "0  5.393419  0.006175  5.022049      0.001054\n",
       "1  4.917031  0.012521  4.939026      0.018967\n",
       "2  4.553165  0.024700  4.529188      0.037935\n",
       "3  4.294667  0.048199  4.260866      0.053741\n",
       "4  4.057812  0.063293  4.187239      0.065332"
      ]
     },
     "execution_count": 26,
     "metadata": {},
     "output_type": "execute_result"
    }
   ],
   "source": [
    "loss_history.head()"
   ]
  },
  {
   "cell_type": "code",
   "execution_count": 27,
   "metadata": {
    "execution": {
     "iopub.execute_input": "2021-04-09T07:18:05.832419Z",
     "iopub.status.busy": "2021-04-09T07:18:05.831696Z",
     "iopub.status.idle": "2021-04-09T07:18:05.983366Z",
     "shell.execute_reply": "2021-04-09T07:18:05.983787Z"
    },
    "id": "JtE5zlB0eYuT",
    "outputId": "81e27ccb-0def-460d-ffa9-9af17ea2b81e",
    "papermill": {
     "duration": 4.031893,
     "end_time": "2021-04-09T07:18:05.983903",
     "exception": false,
     "start_time": "2021-04-09T07:18:01.952010",
     "status": "completed"
    },
    "tags": []
   },
   "outputs": [
    {
     "data": {
      "text/plain": [
       "<AxesSubplot: >"
      ]
     },
     "execution_count": 27,
     "metadata": {},
     "output_type": "execute_result"
    },
    {
     "data": {
      "image/png": "[encoded data removed]",
      "text/plain": [
       "<Figure size 432x288 with 1 Axes>"
      ]
     },
     "metadata": {
      "needs_background": "light"
     },
     "output_type": "display_data"
    }
   ],
   "source": [
    "# plotting the loss\n",
    "loss_history[['loss','val_loss']].plot()"
   ]
  },
  {
   "cell_type": "code",
   "execution_count": 28,
   "metadata": {
    "execution": {
     "iopub.execute_input": "2021-04-09T07:18:13.814292Z",
     "iopub.status.busy": "2021-04-09T07:18:13.813406Z",
     "iopub.status.idle": "2021-04-09T07:18:13.955479Z",
     "shell.execute_reply": "2021-04-09T07:18:13.955947Z"
    },
    "id": "u14Hlwk4ec-d",
    "outputId": "f5cbd86d-235c-4c9a-99e5-0917e7f1c8d1",
    "papermill": {
     "duration": 4.19395,
     "end_time": "2021-04-09T07:18:13.956079",
     "exception": false,
     "start_time": "2021-04-09T07:18:09.762129",
     "status": "completed"
    },
    "tags": []
   },
   "outputs": [
    {
     "data": {
      "text/plain": [
       "<AxesSubplot: >"
      ]
     },
     "execution_count": 28,
     "metadata": {},
     "output_type": "execute_result"
    },
    {
     "data": {
      "image/png": "[encoded data removed]",
      "text/plain": [
       "<Figure size 432x288 with 1 Axes>"
      ]
     },
     "metadata": {
      "needs_background": "light"
     },
     "output_type": "display_data"
    }
   ],
   "source": [
    "# plotting the accuracy\n",
    "loss_history[['accuracy','val_accuracy']].plot()"
   ]
  },
  {
   "cell_type": "markdown",
   "metadata": {
    "id": "GCouk_lg_oFv",
    "papermill": {
     "duration": 3.847729,
     "end_time": "2021-04-09T07:18:21.572849",
     "exception": false,
     "start_time": "2021-04-09T07:18:17.725120",
     "status": "completed"
    },
    "tags": []
   },
   "source": [
    "<h2> Testing the model on new image </h2>"
   ]
  },
  {
   "cell_type": "code",
   "execution_count": 29,
   "metadata": {
    "execution": {
     "iopub.execute_input": "2021-04-09T07:18:29.875028Z",
     "iopub.status.busy": "2021-04-09T07:18:29.874193Z",
     "iopub.status.idle": "2021-04-09T07:18:29.877130Z",
     "shell.execute_reply": "2021-04-09T07:18:29.876615Z"
    },
    "id": "OBSCSRC5Bh-l",
    "papermill": {
     "duration": 4.293212,
     "end_time": "2021-04-09T07:18:29.877218",
     "exception": false,
     "start_time": "2021-04-09T07:18:25.584006",
     "status": "completed"
    },
    "tags": []
   },
   "outputs": [],
   "source": [
    "# Importing standard libraries for image and web url\n",
    "from tensorflow.keras.preprocessing import image\n",
    "from PIL import Image\n",
    "import urllib.request"
   ]
  },
  {
   "cell_type": "code",
   "execution_count": 30,
   "metadata": {
    "execution": {
     "iopub.execute_input": "2021-04-09T07:18:37.703264Z",
     "iopub.status.busy": "2021-04-09T07:18:37.702311Z",
     "iopub.status.idle": "2021-04-09T07:18:37.704935Z",
     "shell.execute_reply": "2021-04-09T07:18:37.704518Z"
    },
    "id": "jxd4V56C7JHp",
    "papermill": {
     "duration": 4.069347,
     "end_time": "2021-04-09T07:18:37.705028",
     "exception": false,
     "start_time": "2021-04-09T07:18:33.635681",
     "status": "completed"
    },
    "tags": []
   },
   "outputs": [],
   "source": [
    "def predict_pokemon(img_url):\n",
    "\n",
    "  # Fetching Image URL \n",
    "  url = img_url\n",
    "  test_image_path = urllib.request.urlopen(url)\n",
    "  \n",
    "  # Using Image lib to resize image\n",
    "  img = Image.open(test_image_path)\n",
    "  img = img.resize((256,256))\n",
    "  \n",
    "  plt.imshow(img)\n",
    "  plt.show()\n",
    "  \n",
    "  # Dropping the transperency channel if it exists\n",
    "  \n",
    "  img = np.array(img)\n",
    "  if img.shape[2] != 3:\n",
    "      img = img[:,:,:3]\n",
    "  \n",
    "  # Converting to array, normalizing and expanding the dims\n",
    "  \n",
    "  img = img/255\n",
    "  my_img_array = np.expand_dims(img,axis=0)\n",
    "\n",
    "  # Fething the prediction\n",
    "  pred_class = np.argmax(model.predict(my_img_array),axis=-1)\n",
    "  poke_class = {value:key for key,value in train_image_gen.class_indices.items()}\n",
    "  print(poke_class[pred_class[0]])"
   ]
  },
  {
   "cell_type": "code",
   "execution_count": 31,
   "metadata": {
    "execution": {
     "iopub.execute_input": "2021-04-09T07:18:45.323943Z",
     "iopub.status.busy": "2021-04-09T07:18:45.323044Z",
     "iopub.status.idle": "2021-04-09T07:18:45.325767Z",
     "shell.execute_reply": "2021-04-09T07:18:45.325346Z"
    },
    "id": "wbAu6ECuFpnJ",
    "papermill": {
     "duration": 3.810237,
     "end_time": "2021-04-09T07:18:45.325860",
     "exception": false,
     "start_time": "2021-04-09T07:18:41.515623",
     "status": "completed"
    },
    "tags": []
   },
   "outputs": [],
   "source": [
    "img = 'http://www.pngmart.com/files/12/Pokemon-Charizard-PNG-Image.png'\n",
    "img2 = 'https://www.pngkey.com/png/full/149-1492440_pokemon-jigglypuff-png-jigglypuff-pokemon.png'\n",
    "img3 = 'https://smallimg.pngkey.com/png/small/62-623293_pokemon-conquest-pokemon-art.png'\n",
    "img4 = 'https://smallimg.pngkey.com/png/small/1-16272_pokemon-logo-png-transparent-pokemon-vector.png'\n",
    "img5 = 'https://www.pngkey.com/png/full/62-622689_fire-pokemon-png-moltres-pokemon.png'\n",
    "img6 = 'https://www.pngkey.com/png/full/66-668441_jpg-library-library-redo-ultimate-mewtwo-by-pokemon.png'"
   ]
  },
  {
   "cell_type": "code",
   "execution_count": 32,
   "metadata": {
    "execution": {
     "iopub.execute_input": "2021-04-09T07:18:53.194961Z",
     "iopub.status.busy": "2021-04-09T07:18:53.194240Z",
     "iopub.status.idle": "2021-04-09T07:18:57.566725Z",
     "shell.execute_reply": "2021-04-09T07:18:57.566273Z"
    },
    "id": "xn_S9DQ7A9QM",
    "outputId": "9507c2ce-da98-4436-a466-6f0a7677c3b6",
    "papermill": {
     "duration": 8.207801,
     "end_time": "2021-04-09T07:18:57.566824",
     "exception": false,
     "start_time": "2021-04-09T07:18:49.359023",
     "status": "completed"
    },
    "tags": []
   },
   "outputs": [
    {
     "ename": "HTTPError",
     "evalue": "HTTP Error 403: Forbidden",
     "output_type": "error",
     "traceback": [
      "\u001b[0;31m---------------------------------------------------------------------------\u001b[0m",
      "\u001b[0;31mHTTPError\u001b[0m                                 Traceback (most recent call last)",
      "\u001b[0;32m/tmp/ipykernel_31040/2334609434.py\u001b[0m in \u001b[0;36m<module>\u001b[0;34m\u001b[0m\n\u001b[1;32m      2\u001b[0m \u001b[0;34m\u001b[0m\u001b[0m\n\u001b[1;32m      3\u001b[0m \u001b[0;32mfor\u001b[0m \u001b[0mi\u001b[0m \u001b[0;32min\u001b[0m \u001b[0mpokemon\u001b[0m\u001b[0;34m:\u001b[0m\u001b[0;34m\u001b[0m\u001b[0;34m\u001b[0m\u001b[0m\n\u001b[0;32m----> 4\u001b[0;31m   \u001b[0mpredict_pokemon\u001b[0m\u001b[0;34m(\u001b[0m\u001b[0mi\u001b[0m\u001b[0;34m)\u001b[0m\u001b[0;34m\u001b[0m\u001b[0;34m\u001b[0m\u001b[0m\n\u001b[0m",
      "\u001b[0;32m/tmp/ipykernel_31040/873792198.py\u001b[0m in \u001b[0;36mpredict_pokemon\u001b[0;34m(img_url)\u001b[0m\n\u001b[1;32m      3\u001b[0m   \u001b[0;31m# Fetching Image URL\u001b[0m\u001b[0;34m\u001b[0m\u001b[0;34m\u001b[0m\u001b[0m\n\u001b[1;32m      4\u001b[0m   \u001b[0murl\u001b[0m \u001b[0;34m=\u001b[0m \u001b[0mimg_url\u001b[0m\u001b[0;34m\u001b[0m\u001b[0;34m\u001b[0m\u001b[0m\n\u001b[0;32m----> 5\u001b[0;31m   \u001b[0mtest_image_path\u001b[0m \u001b[0;34m=\u001b[0m \u001b[0murllib\u001b[0m\u001b[0;34m.\u001b[0m\u001b[0mrequest\u001b[0m\u001b[0;34m.\u001b[0m\u001b[0murlopen\u001b[0m\u001b[0;34m(\u001b[0m\u001b[0murl\u001b[0m\u001b[0;34m)\u001b[0m\u001b[0;34m\u001b[0m\u001b[0;34m\u001b[0m\u001b[0m\n\u001b[0m\u001b[1;32m      6\u001b[0m \u001b[0;34m\u001b[0m\u001b[0m\n\u001b[1;32m      7\u001b[0m   \u001b[0;31m# Using Image lib to resize image\u001b[0m\u001b[0;34m\u001b[0m\u001b[0;34m\u001b[0m\u001b[0m\n",
      "\u001b[0;32m/usr/lib/python3.10/urllib/request.py\u001b[0m in \u001b[0;36murlopen\u001b[0;34m(url, data, timeout, cafile, capath, cadefault, context)\u001b[0m\n\u001b[1;32m    214\u001b[0m     \u001b[0;32melse\u001b[0m\u001b[0;34m:\u001b[0m\u001b[0;34m\u001b[0m\u001b[0;34m\u001b[0m\u001b[0m\n\u001b[1;32m    215\u001b[0m         \u001b[0mopener\u001b[0m \u001b[0;34m=\u001b[0m \u001b[0m_opener\u001b[0m\u001b[0;34m\u001b[0m\u001b[0;34m\u001b[0m\u001b[0m\n\u001b[0;32m--> 216\u001b[0;31m     \u001b[0;32mreturn\u001b[0m \u001b[0mopener\u001b[0m\u001b[0;34m.\u001b[0m\u001b[0mopen\u001b[0m\u001b[0;34m(\u001b[0m\u001b[0murl\u001b[0m\u001b[0;34m,\u001b[0m \u001b[0mdata\u001b[0m\u001b[0;34m,\u001b[0m \u001b[0mtimeout\u001b[0m\u001b[0;34m)\u001b[0m\u001b[0;34m\u001b[0m\u001b[0;34m\u001b[0m\u001b[0m\n\u001b[0m\u001b[1;32m    217\u001b[0m \u001b[0;34m\u001b[0m\u001b[0m\n\u001b[1;32m    218\u001b[0m \u001b[0;32mdef\u001b[0m \u001b[0minstall_opener\u001b[0m\u001b[0;34m(\u001b[0m\u001b[0mopener\u001b[0m\u001b[0;34m)\u001b[0m\u001b[0;34m:\u001b[0m\u001b[0;34m\u001b[0m\u001b[0;34m\u001b[0m\u001b[0m\n",
      "\u001b[0;32m/usr/lib/python3.10/urllib/request.py\u001b[0m in \u001b[0;36mopen\u001b[0;34m(self, fullurl, data, timeout)\u001b[0m\n\u001b[1;32m    523\u001b[0m         \u001b[0;32mfor\u001b[0m \u001b[0mprocessor\u001b[0m \u001b[0;32min\u001b[0m \u001b[0mself\u001b[0m\u001b[0;34m.\u001b[0m\u001b[0mprocess_response\u001b[0m\u001b[0;34m.\u001b[0m\u001b[0mget\u001b[0m\u001b[0;34m(\u001b[0m\u001b[0mprotocol\u001b[0m\u001b[0;34m,\u001b[0m \u001b[0;34m[\u001b[0m\u001b[0;34m]\u001b[0m\u001b[0;34m)\u001b[0m\u001b[0;34m:\u001b[0m\u001b[0;34m\u001b[0m\u001b[0;34m\u001b[0m\u001b[0m\n\u001b[1;32m    524\u001b[0m             \u001b[0mmeth\u001b[0m \u001b[0;34m=\u001b[0m \u001b[0mgetattr\u001b[0m\u001b[0;34m(\u001b[0m\u001b[0mprocessor\u001b[0m\u001b[0;34m,\u001b[0m \u001b[0mmeth_name\u001b[0m\u001b[0;34m)\u001b[0m\u001b[0;34m\u001b[0m\u001b[0;34m\u001b[0m\u001b[0m\n\u001b[0;32m--> 525\u001b[0;31m             \u001b[0mresponse\u001b[0m \u001b[0;34m=\u001b[0m \u001b[0mmeth\u001b[0m\u001b[0;34m(\u001b[0m\u001b[0mreq\u001b[0m\u001b[0;34m,\u001b[0m \u001b[0mresponse\u001b[0m\u001b[0;34m)\u001b[0m\u001b[0;34m\u001b[0m\u001b[0;34m\u001b[0m\u001b[0m\n\u001b[0m\u001b[1;32m    526\u001b[0m \u001b[0;34m\u001b[0m\u001b[0m\n\u001b[1;32m    527\u001b[0m         \u001b[0;32mreturn\u001b[0m \u001b[0mresponse\u001b[0m\u001b[0;34m\u001b[0m\u001b[0;34m\u001b[0m\u001b[0m\n",
      "\u001b[0;32m/usr/lib/python3.10/urllib/request.py\u001b[0m in \u001b[0;36mhttp_response\u001b[0;34m(self, request, response)\u001b[0m\n\u001b[1;32m    632\u001b[0m         \u001b[0;31m# request was successfully received, understood, and accepted.\u001b[0m\u001b[0;34m\u001b[0m\u001b[0;34m\u001b[0m\u001b[0m\n\u001b[1;32m    633\u001b[0m         \u001b[0;32mif\u001b[0m \u001b[0;32mnot\u001b[0m \u001b[0;34m(\u001b[0m\u001b[0;36m200\u001b[0m \u001b[0;34m<=\u001b[0m \u001b[0mcode\u001b[0m \u001b[0;34m<\u001b[0m \u001b[0;36m300\u001b[0m\u001b[0;34m)\u001b[0m\u001b[0;34m:\u001b[0m\u001b[0;34m\u001b[0m\u001b[0;34m\u001b[0m\u001b[0m\n\u001b[0;32m--> 634\u001b[0;31m             response = self.parent.error(\n\u001b[0m\u001b[1;32m    635\u001b[0m                 'http', request, response, code, msg, hdrs)\n\u001b[1;32m    636\u001b[0m \u001b[0;34m\u001b[0m\u001b[0m\n",
      "\u001b[0;32m/usr/lib/python3.10/urllib/request.py\u001b[0m in \u001b[0;36merror\u001b[0;34m(self, proto, *args)\u001b[0m\n\u001b[1;32m    561\u001b[0m         \u001b[0;32mif\u001b[0m \u001b[0mhttp_err\u001b[0m\u001b[0;34m:\u001b[0m\u001b[0;34m\u001b[0m\u001b[0;34m\u001b[0m\u001b[0m\n\u001b[1;32m    562\u001b[0m             \u001b[0margs\u001b[0m \u001b[0;34m=\u001b[0m \u001b[0;34m(\u001b[0m\u001b[0mdict\u001b[0m\u001b[0;34m,\u001b[0m \u001b[0;34m'default'\u001b[0m\u001b[0;34m,\u001b[0m \u001b[0;34m'http_error_default'\u001b[0m\u001b[0;34m)\u001b[0m \u001b[0;34m+\u001b[0m \u001b[0morig_args\u001b[0m\u001b[0;34m\u001b[0m\u001b[0;34m\u001b[0m\u001b[0m\n\u001b[0;32m--> 563\u001b[0;31m             \u001b[0;32mreturn\u001b[0m \u001b[0mself\u001b[0m\u001b[0;34m.\u001b[0m\u001b[0m_call_chain\u001b[0m\u001b[0;34m(\u001b[0m\u001b[0;34m*\u001b[0m\u001b[0margs\u001b[0m\u001b[0;34m)\u001b[0m\u001b[0;34m\u001b[0m\u001b[0;34m\u001b[0m\u001b[0m\n\u001b[0m\u001b[1;32m    564\u001b[0m \u001b[0;34m\u001b[0m\u001b[0m\n\u001b[1;32m    565\u001b[0m \u001b[0;31m# XXX probably also want an abstract factory that knows when it makes\u001b[0m\u001b[0;34m\u001b[0m\u001b[0;34m\u001b[0m\u001b[0m\n",
      "\u001b[0;32m/usr/lib/python3.10/urllib/request.py\u001b[0m in \u001b[0;36m_call_chain\u001b[0;34m(self, chain, kind, meth_name, *args)\u001b[0m\n\u001b[1;32m    494\u001b[0m         \u001b[0;32mfor\u001b[0m \u001b[0mhandler\u001b[0m \u001b[0;32min\u001b[0m \u001b[0mhandlers\u001b[0m\u001b[0;34m:\u001b[0m\u001b[0;34m\u001b[0m\u001b[0;34m\u001b[0m\u001b[0m\n\u001b[1;32m    495\u001b[0m             \u001b[0mfunc\u001b[0m \u001b[0;34m=\u001b[0m \u001b[0mgetattr\u001b[0m\u001b[0;34m(\u001b[0m\u001b[0mhandler\u001b[0m\u001b[0;34m,\u001b[0m \u001b[0mmeth_name\u001b[0m\u001b[0;34m)\u001b[0m\u001b[0;34m\u001b[0m\u001b[0;34m\u001b[0m\u001b[0m\n\u001b[0;32m--> 496\u001b[0;31m             \u001b[0mresult\u001b[0m \u001b[0;34m=\u001b[0m \u001b[0mfunc\u001b[0m\u001b[0;34m(\u001b[0m\u001b[0;34m*\u001b[0m\u001b[0margs\u001b[0m\u001b[0;34m)\u001b[0m\u001b[0;34m\u001b[0m\u001b[0;34m\u001b[0m\u001b[0m\n\u001b[0m\u001b[1;32m    497\u001b[0m             \u001b[0;32mif\u001b[0m \u001b[0mresult\u001b[0m \u001b[0;32mis\u001b[0m \u001b[0;32mnot\u001b[0m \u001b[0;32mNone\u001b[0m\u001b[0;34m:\u001b[0m\u001b[0;34m\u001b[0m\u001b[0;34m\u001b[0m\u001b[0m\n\u001b[1;32m    498\u001b[0m                 \u001b[0;32mreturn\u001b[0m \u001b[0mresult\u001b[0m\u001b[0;34m\u001b[0m\u001b[0;34m\u001b[0m\u001b[0m\n",
      "\u001b[0;32m/usr/lib/python3.10/urllib/request.py\u001b[0m in \u001b[0;36mhttp_error_default\u001b[0;34m(self, req, fp, code, msg, hdrs)\u001b[0m\n\u001b[1;32m    641\u001b[0m \u001b[0;32mclass\u001b[0m \u001b[0mHTTPDefaultErrorHandler\u001b[0m\u001b[0;34m(\u001b[0m\u001b[0mBaseHandler\u001b[0m\u001b[0;34m)\u001b[0m\u001b[0;34m:\u001b[0m\u001b[0;34m\u001b[0m\u001b[0;34m\u001b[0m\u001b[0m\n\u001b[1;32m    642\u001b[0m     \u001b[0;32mdef\u001b[0m \u001b[0mhttp_error_default\u001b[0m\u001b[0;34m(\u001b[0m\u001b[0mself\u001b[0m\u001b[0;34m,\u001b[0m \u001b[0mreq\u001b[0m\u001b[0;34m,\u001b[0m \u001b[0mfp\u001b[0m\u001b[0;34m,\u001b[0m \u001b[0mcode\u001b[0m\u001b[0;34m,\u001b[0m \u001b[0mmsg\u001b[0m\u001b[0;34m,\u001b[0m \u001b[0mhdrs\u001b[0m\u001b[0;34m)\u001b[0m\u001b[0;34m:\u001b[0m\u001b[0;34m\u001b[0m\u001b[0;34m\u001b[0m\u001b[0m\n\u001b[0;32m--> 643\u001b[0;31m         \u001b[0;32mraise\u001b[0m \u001b[0mHTTPError\u001b[0m\u001b[0;34m(\u001b[0m\u001b[0mreq\u001b[0m\u001b[0;34m.\u001b[0m\u001b[0mfull_url\u001b[0m\u001b[0;34m,\u001b[0m \u001b[0mcode\u001b[0m\u001b[0;34m,\u001b[0m \u001b[0mmsg\u001b[0m\u001b[0;34m,\u001b[0m \u001b[0mhdrs\u001b[0m\u001b[0;34m,\u001b[0m \u001b[0mfp\u001b[0m\u001b[0;34m)\u001b[0m\u001b[0;34m\u001b[0m\u001b[0;34m\u001b[0m\u001b[0m\n\u001b[0m\u001b[1;32m    644\u001b[0m \u001b[0;34m\u001b[0m\u001b[0m\n\u001b[1;32m    645\u001b[0m \u001b[0;32mclass\u001b[0m \u001b[0mHTTPRedirectHandler\u001b[0m\u001b[0;34m(\u001b[0m\u001b[0mBaseHandler\u001b[0m\u001b[0;34m)\u001b[0m\u001b[0;34m:\u001b[0m\u001b[0;34m\u001b[0m\u001b[0;34m\u001b[0m\u001b[0m\n",
      "\u001b[0;31mHTTPError\u001b[0m: HTTP Error 403: Forbidden"
     ]
    }
   ],
   "source": [
    "pokemon = [img,img2,img3,img4,img5,img6]\n",
    "\n",
    "for i in pokemon:\n",
    "  predict_pokemon(i)"
   ]
  },
  {
   "cell_type": "code",
   "execution_count": null,
   "metadata": {
    "id": "hwHThRWwJDGA",
    "papermill": {
     "duration": 3.763704,
     "end_time": "2021-04-09T07:19:05.697742",
     "exception": false,
     "start_time": "2021-04-09T07:19:01.934038",
     "status": "completed"
    },
    "tags": []
   },
   "outputs": [],
   "source": []
  }
 ],
 "metadata": {
  "kernelspec": {
   "display_name": "Python 3",
   "language": "python",
   "name": "python3"
  },
  "language_info": {
   "codemirror_mode": {
    "name": "ipython",
    "version": 3
   },
   "file_extension": ".py",
   "mimetype": "text/x-python",
   "name": "python",
   "nbconvert_exporter": "python",
   "pygments_lexer": "ipython3",
   "version": "3.10.6"
  },
  "papermill": {
   "duration": 5579.276199,
   "end_time": "2021-04-09T07:19:11.510829",
   "environment_variables": {},
   "exception": null,
   "input_path": "__notebook__.ipynb",
   "output_path": "__notebook__.ipynb",
   "parameters": {},
   "start_time": "2021-04-09T05:46:12.234630",
   "version": "2.1.0"
  }
 },
 "nbformat": 4,
 "nbformat_minor": 4
}

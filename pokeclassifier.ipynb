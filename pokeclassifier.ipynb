{
 "cells": [
  {
   "attachments": {},
   "cell_type": "markdown",
   "metadata": {},
   "source": [
    "# PokeClassifier\n",
    "\n",
    "Gen1 Pokemon Image Classifier with Automatic Image Standardization\n",
    "\n",
    "## Imports and Data Loading"
   ]
  },
  {
   "cell_type": "code",
   "execution_count": 13,
   "metadata": {},
   "outputs": [],
   "source": [
    "# Import\n",
    "import pandas as pd\n",
    "import matplotlib.pyplot as plt\n",
    "from matplotlib.image import imread\n",
    "import os\n",
    "import tensorflow as tf\n",
    "from tensorflow.keras.preprocessing.image import ImageDataGenerator\n",
    "\n",
    "os.environ['TF_CPP_MIN_LOG_LEVEL'] = '3'\n",
    "tf.compat.v1.logging.set_verbosity(tf.compat.v1.logging.ERROR)\n",
    "config = tf.compat.v1.ConfigProto()\n",
    "config.gpu_options.allow_growth = True\n",
    "session = tf.compat.v1.Session(config=config)"
   ]
  },
  {
   "attachments": {},
   "cell_type": "markdown",
   "metadata": {},
   "source": [
    "### Model Hyperparameters"
   ]
  },
  {
   "cell_type": "code",
   "execution_count": 14,
   "metadata": {},
   "outputs": [],
   "source": [
    "batch_size = 16\n",
    "image_shape = (256,256,3)"
   ]
  },
  {
   "cell_type": "code",
   "execution_count": 15,
   "metadata": {},
   "outputs": [
    {
     "name": "stdout",
     "output_type": "stream",
     "text": [
      "Found 5830 images belonging to 149 classes.\n",
      "Found 949 images belonging to 149 classes.\n"
     ]
    }
   ],
   "source": [
    "train_path = 'TrainImages'\n",
    "test_path = 'TestImages'\n",
    "\n",
    "\n",
    "image_gen = ImageDataGenerator(rotation_range=20,\n",
    "                               rescale = 1./255,\n",
    "                               width_shift_range=0.1,\n",
    "                               height_shift_range=0.1,\n",
    "                               shear_range=0.1,\n",
    "                               zoom_range=0.1,\n",
    "                               horizontal_flip=True,\n",
    "                               fill_mode='nearest')\n",
    "\n",
    "train_image_gen = image_gen.flow_from_directory(train_path,\n",
    "                                                target_size=image_shape[:2],\n",
    "                                                color_mode='rgb',\n",
    "                                                batch_size=batch_size,\n",
    "                                                class_mode='categorical')\n",
    "\n",
    "test_image_gen = image_gen.flow_from_directory(test_path,\n",
    "                                                target_size=image_shape[:2],\n",
    "                                                color_mode='rgb',\n",
    "                                                batch_size=batch_size,\n",
    "                                                class_mode='categorical')"
   ]
  },
  {
   "attachments": {},
   "cell_type": "markdown",
   "metadata": {},
   "source": [
    "### Model Definition"
   ]
  },
  {
   "cell_type": "code",
   "execution_count": 16,
   "metadata": {},
   "outputs": [],
   "source": [
    "from tensorflow.keras.models import Sequential,load_model\n",
    "from tensorflow.keras.layers import Dense, Conv2D, MaxPool2D, Dropout, Flatten, BatchNormalization\n",
    "from tensorflow.keras.optimizers import Adam\n",
    "from tensorflow.keras.callbacks import EarlyStopping"
   ]
  },
  {
   "cell_type": "code",
   "execution_count": 17,
   "metadata": {},
   "outputs": [
    {
     "name": "stdout",
     "output_type": "stream",
     "text": [
      "Model: \"sequential_2\"\n",
      "_________________________________________________________________\n",
      " Layer (type)                Output Shape              Param #   \n",
      "=================================================================\n",
      " conv2d_10 (Conv2D)          (None, 256, 256, 64)      1792      \n",
      "                                                                 \n",
      " max_pooling2d_10 (MaxPoolin  (None, 128, 128, 64)     0         \n",
      " g2D)                                                            \n",
      "                                                                 \n",
      " conv2d_11 (Conv2D)          (None, 128, 128, 128)     73856     \n",
      "                                                                 \n",
      " max_pooling2d_11 (MaxPoolin  (None, 64, 64, 128)      0         \n",
      " g2D)                                                            \n",
      "                                                                 \n",
      " batch_normalization_4 (Batc  (None, 64, 64, 128)      512       \n",
      " hNormalization)                                                 \n",
      "                                                                 \n",
      " conv2d_12 (Conv2D)          (None, 64, 64, 128)       147584    \n",
      "                                                                 \n",
      " max_pooling2d_12 (MaxPoolin  (None, 32, 32, 128)      0         \n",
      " g2D)                                                            \n",
      "                                                                 \n",
      " conv2d_13 (Conv2D)          (None, 32, 32, 128)       147584    \n",
      "                                                                 \n",
      " max_pooling2d_13 (MaxPoolin  (None, 16, 16, 128)      0         \n",
      " g2D)                                                            \n",
      "                                                                 \n",
      " batch_normalization_5 (Batc  (None, 16, 16, 128)      512       \n",
      " hNormalization)                                                 \n",
      "                                                                 \n",
      " conv2d_14 (Conv2D)          (None, 16, 16, 128)       147584    \n",
      "                                                                 \n",
      " max_pooling2d_14 (MaxPoolin  (None, 8, 8, 128)        0         \n",
      " g2D)                                                            \n",
      "                                                                 \n",
      " conv2d_15 (Conv2D)          (None, 8, 8, 256)         295168    \n",
      "                                                                 \n",
      " max_pooling2d_15 (MaxPoolin  (None, 4, 4, 256)        0         \n",
      " g2D)                                                            \n",
      "                                                                 \n",
      " batch_normalization_6 (Batc  (None, 4, 4, 256)        1024      \n",
      " hNormalization)                                                 \n",
      "                                                                 \n",
      " flatten_2 (Flatten)         (None, 4096)              0         \n",
      "                                                                 \n",
      " dropout_4 (Dropout)         (None, 4096)              0         \n",
      "                                                                 \n",
      " dense_6 (Dense)             (None, 1024)              4195328   \n",
      "                                                                 \n",
      " dropout_5 (Dropout)         (None, 1024)              0         \n",
      "                                                                 \n",
      " dense_7 (Dense)             (None, 512)               524800    \n",
      "                                                                 \n",
      " dense_8 (Dense)             (None, 149)               76437     \n",
      "                                                                 \n",
      "=================================================================\n",
      "Total params: 5,612,181\n",
      "Trainable params: 5,611,157\n",
      "Non-trainable params: 1,024\n",
      "_________________________________________________________________\n"
     ]
    }
   ],
   "source": [
    "model = Sequential()\n",
    "\n",
    "model.add(Conv2D(filters=64,kernel_size=(3,3),padding='same',input_shape=image_shape,activation='relu'))\n",
    "model.add(MaxPool2D(pool_size=(2,2)))\n",
    "model.add(Conv2D(filters=128,kernel_size=(3,3),padding='same',input_shape=image_shape,activation='relu'))\n",
    "model.add(MaxPool2D(pool_size=(2,2)))\n",
    "model.add(BatchNormalization())\n",
    "model.add(Conv2D(filters=128,kernel_size=(3,3),padding='same',input_shape=image_shape,activation='relu'))\n",
    "model.add(MaxPool2D(pool_size=(2,2)))\n",
    "model.add(Conv2D(filters=128,kernel_size=(3,3),padding='same',input_shape=image_shape,activation='relu'))\n",
    "model.add(MaxPool2D(pool_size=(2,2)))\n",
    "model.add(BatchNormalization())\n",
    "model.add(Conv2D(filters=128,kernel_size=(3,3),padding='same',input_shape=image_shape,activation='relu'))\n",
    "model.add(MaxPool2D(pool_size=(2,2)))\n",
    "model.add(Conv2D(filters=256,kernel_size=(3,3),padding='same',input_shape=image_shape,activation='relu'))\n",
    "model.add(MaxPool2D(pool_size=(2,2)))\n",
    "model.add(BatchNormalization())\n",
    "\n",
    "model.add(Flatten())\n",
    "\n",
    "model.add(Dropout(rate=0.1))\n",
    "\n",
    "model.add(Dense(1024,activation='relu'))\n",
    "\n",
    "model.add(Dropout(rate=0.1))\n",
    "\n",
    "model.add(Dense(512,activation='relu'))\n",
    "\n",
    "model.add(Dense(149,activation='softmax'))\n",
    "\n",
    "\n",
    "model.compile(loss='categorical_crossentropy', optimizer=Adam(learning_rate=0.001), metrics=['accuracy'])\n",
    "\n",
    "model.summary()"
   ]
  },
  {
   "attachments": {},
   "cell_type": "markdown",
   "metadata": {},
   "source": [
    "### Training"
   ]
  },
  {
   "cell_type": "code",
   "execution_count": 18,
   "metadata": {},
   "outputs": [
    {
     "name": "stdout",
     "output_type": "stream",
     "text": [
      "Epoch 1/80\n",
      "365/365 [==============================] - 141s 370ms/step - loss: 4.4637 - accuracy: 0.0587 - val_loss: 4.0152 - val_accuracy: 0.0896\n",
      "Epoch 2/80\n",
      "365/365 [==============================] - 129s 354ms/step - loss: 3.3838 - accuracy: 0.1684 - val_loss: 3.2995 - val_accuracy: 0.1823\n",
      "Epoch 3/80\n",
      "365/365 [==============================] - 129s 352ms/step - loss: 2.8748 - accuracy: 0.2523 - val_loss: 3.5532 - val_accuracy: 0.1781\n",
      "Epoch 4/80\n",
      "365/365 [==============================] - 128s 350ms/step - loss: 2.5385 - accuracy: 0.3254 - val_loss: 2.5915 - val_accuracy: 0.3446\n",
      "Epoch 5/80\n",
      "365/365 [==============================] - 128s 350ms/step - loss: 2.2543 - accuracy: 0.3952 - val_loss: 2.3166 - val_accuracy: 0.4162\n",
      "Epoch 6/80\n",
      "365/365 [==============================] - 126s 346ms/step - loss: 2.0882 - accuracy: 0.4400 - val_loss: 3.1398 - val_accuracy: 0.2972\n",
      "Epoch 7/80\n",
      "365/365 [==============================] - 129s 352ms/step - loss: 1.8767 - accuracy: 0.4842 - val_loss: 2.1785 - val_accuracy: 0.4278\n",
      "Epoch 8/80\n",
      "365/365 [==============================] - 127s 347ms/step - loss: 1.7236 - accuracy: 0.5149 - val_loss: 2.0014 - val_accuracy: 0.4953\n",
      "Epoch 9/80\n",
      "365/365 [==============================] - 127s 346ms/step - loss: 1.5726 - accuracy: 0.5551 - val_loss: 1.9107 - val_accuracy: 0.5037\n",
      "Epoch 10/80\n",
      "365/365 [==============================] - 127s 347ms/step - loss: 1.4443 - accuracy: 0.5950 - val_loss: 1.8845 - val_accuracy: 0.5227\n",
      "Epoch 11/80\n",
      "365/365 [==============================] - 126s 345ms/step - loss: 1.3443 - accuracy: 0.6170 - val_loss: 1.9174 - val_accuracy: 0.5406\n",
      "Epoch 12/80\n",
      "365/365 [==============================] - 126s 344ms/step - loss: 1.2296 - accuracy: 0.6535 - val_loss: 1.7898 - val_accuracy: 0.5659\n",
      "Epoch 13/80\n",
      "365/365 [==============================] - 126s 345ms/step - loss: 1.1764 - accuracy: 0.6605 - val_loss: 1.8842 - val_accuracy: 0.5511\n",
      "Epoch 14/80\n",
      "365/365 [==============================] - 128s 352ms/step - loss: 1.0938 - accuracy: 0.6765 - val_loss: 1.8086 - val_accuracy: 0.5627\n",
      "Epoch 15/80\n",
      "365/365 [==============================] - 125s 340ms/step - loss: 1.0357 - accuracy: 0.7031 - val_loss: 2.1473 - val_accuracy: 0.5258\n"
     ]
    }
   ],
   "source": [
    "checkpoint = tf.keras.callbacks.ModelCheckpoint(\"my_model.h5\", monitor=\"val_accuracy\", save_best_only=True, period=3)\n",
    "early_stopping = EarlyStopping(monitor='val_accuracy',patience=3)\n",
    "results = model.fit(train_image_gen,epochs=80,validation_split=0.1,callbacks=[early_stopping, checkpoint])"
   ]
  },
  {
   "attachments": {},
   "cell_type": "markdown",
   "metadata": {},
   "source": [
    "### Evalute Model"
   ]
  },
  {
   "cell_type": "code",
   "execution_count": 19,
   "metadata": {},
   "outputs": [
    {
     "name": "stdout",
     "output_type": "stream",
     "text": [
      "60/60 [==============================] - 17s 286ms/step - loss: 2.1454 - accuracy: 0.5279\n"
     ]
    },
    {
     "data": {
      "text/plain": [
       "<AxesSubplot: >"
      ]
     },
     "execution_count": 19,
     "metadata": {},
     "output_type": "execute_result"
    },
    {
     "data": {
      "image/png": "[encoded data removed]",
      "text/plain": [
       "<Figure size 432x288 with 1 Axes>"
      ]
     },
     "metadata": {
      "needs_background": "light"
     },
     "output_type": "display_data"
    },
    {
     "data": {
      "image/png": "[encoded data removed]",
      "text/plain": [
       "<Figure size 432x288 with 1 Axes>"
      ]
     },
     "metadata": {
      "needs_background": "light"
     },
     "output_type": "display_data"
    }
   ],
   "source": [
    "loss_history = pd.DataFrame(model.history.history)\n",
    "\n",
    "model.evaluate(test_image_gen)\n",
    "loss_history[['loss','val_loss']].plot()\n",
    "loss_history[['accuracy','val_accuracy']].plot()"
   ]
  }
 ],
 "metadata": {
  "kernelspec": {
   "display_name": "Python 3",
   "language": "python",
   "name": "python3"
  },
  "language_info": {
   "codemirror_mode": {
    "name": "ipython",
    "version": 3
   },
   "file_extension": ".py",
   "mimetype": "text/x-python",
   "name": "python",
   "nbconvert_exporter": "python",
   "pygments_lexer": "ipython3",
   "version": "3.10.6"
  },
  "orig_nbformat": 4
 },
 "nbformat": 4,
 "nbformat_minor": 2
}
